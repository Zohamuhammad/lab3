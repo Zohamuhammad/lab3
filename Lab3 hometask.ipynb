{
 "cells": [
  {
   "cell_type": "code",
   "execution_count": 2,
   "id": "5eea57ee-6093-454d-b138-ec3fc6ef4953",
   "metadata": {},
   "outputs": [
    {
     "name": "stdout",
     "output_type": "stream",
     "text": [
      "Prediction for (8 Study Hours, 75% Attendance): Fail\n",
      "Confusion Matrix:\n",
      " [[0 0]\n",
      " [1 2]]\n",
      "Accuracy: 0.6666666666666666\n"
     ]
    }
   ],
   "source": [
    "from sklearn.model_selection import train_test_split\n",
    "from sklearn.neighbors import KNeighborsClassifier\n",
    "from sklearn.metrics import confusion_matrix, accuracy_score\n",
    "import numpy as np\n",
    "\n",
    "# Sample Student Performance Data\n",
    "data = [\n",
    "    [15, 85, 1], [5, 60, 0], [10, 70, 1], [2, 40, 0], [12, 90, 1], \n",
    "    [3, 50, 0], [14, 95, 1], [6, 55, 0], [9, 80, 1], [4, 45, 0]\n",
    "]\n",
    "\n",
    "# Separate features and labels\n",
    "X = [row[:2] for row in data]   # Features: Study Hours and Attendance\n",
    "y = [row[2] for row in data]    # Labels: 1 (Pass), 0 (Fail)\n",
    "\n",
    "# Initialize KNN Classifier\n",
    "knn = KNeighborsClassifier(n_neighbors=3)\n",
    "\n",
    "# Split data into training and testing sets\n",
    "X_train, X_test, y_train, y_test = train_test_split(X, y, test_size=0.3, random_state=0)\n",
    "\n",
    "# Train the model\n",
    "knn.fit(X_train, y_train)\n",
    "\n",
    "# Make a prediction on a test condition\n",
    "test_condition = np.array([[8, 75]])  # Test: 8 study hours, 75% attendance\n",
    "prediction = knn.predict(test_condition)\n",
    "\n",
    "# Evaluate the model on the test set\n",
    "y_pred = knn.predict(X_test)\n",
    "conf_matrix = confusion_matrix(y_test, y_pred)\n",
    "accuracy = accuracy_score(y_test, y_pred)\n",
    "\n",
    "# Display results\n",
    "print(\"Prediction for (8 Study Hours, 75% Attendance):\", \"Pass\" if prediction[0] == 1 else \"Fail\")\n",
    "print(\"Confusion Matrix:\\n\", conf_matrix)\n",
    "print(\"Accuracy:\", accuracy)\n"
   ]
  }
 ],
 "metadata": {
  "kernelspec": {
   "display_name": "Python 3 (ipykernel)",
   "language": "python",
   "name": "python3"
  },
  "language_info": {
   "codemirror_mode": {
    "name": "ipython",
    "version": 3
   },
   "file_extension": ".py",
   "mimetype": "text/x-python",
   "name": "python",
   "nbconvert_exporter": "python",
   "pygments_lexer": "ipython3",
   "version": "3.12.7"
  }
 },
 "nbformat": 4,
 "nbformat_minor": 5
}
